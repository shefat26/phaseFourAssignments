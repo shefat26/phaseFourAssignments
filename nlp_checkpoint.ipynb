{
 "cells": [
  {
   "cell_type": "markdown",
   "metadata": {
    "nbgrader": {
     "grade": false,
     "grade_id": "cell-34139fb74befcf21",
     "locked": true,
     "schema_version": 3,
     "solution": false,
     "task": false
    }
   },
   "source": [
    "# Natural Language Processing Checkpoint\n",
    "This checkpoint is designed to test your understanding of the content from the Text Classification Cumulative Lab. \n",
    "\n",
    "Specifically, this will cover:\n",
    "\n",
    "- Preprocessing and exploring text data using `nltk`\n",
    "- Vectorizing text data using a bag-of-words approach\n",
    "- Fitting machine learning models using vectorized text data\n",
    "\n",
    "### Data Understanding\n",
    "\n",
    "In this repository under the file path `movie_descriptions.csv` there is a CSV file containing the titles, genres, and descriptions for 5,000 films pulled from [IMDb](https://www.kaggle.com/hijest/genre-classification-dataset-imdb).\n",
    "\n",
    "**The features of interest for this analysis will be:**\n",
    "\n",
    "1. `desc`: The description of the film, which we will explore and then use as the features of our model\n",
    "2. `genre`: The target for our predictive model"
   ]
  },
  {
   "cell_type": "code",
   "execution_count": 1,
   "metadata": {
    "ExecuteTime": {
     "end_time": "2021-11-08T18:51:16.295737Z",
     "start_time": "2021-11-08T18:51:15.844207Z"
    },
    "nbgrader": {
     "grade": false,
     "grade_id": "cell-281bb10d1f157ca2",
     "locked": true,
     "schema_version": 3,
     "solution": false,
     "task": false
    }
   },
   "outputs": [
    {
     "data": {
      "text/html": [
       "<div>\n",
       "<style scoped>\n",
       "    .dataframe tbody tr th:only-of-type {\n",
       "        vertical-align: middle;\n",
       "    }\n",
       "\n",
       "    .dataframe tbody tr th {\n",
       "        vertical-align: top;\n",
       "    }\n",
       "\n",
       "    .dataframe thead th {\n",
       "        text-align: right;\n",
       "    }\n",
       "</style>\n",
       "<table border=\"1\" class=\"dataframe\">\n",
       "  <thead>\n",
       "    <tr style=\"text-align: right;\">\n",
       "      <th></th>\n",
       "      <th>id</th>\n",
       "      <th>title</th>\n",
       "      <th>genre</th>\n",
       "      <th>desc</th>\n",
       "    </tr>\n",
       "  </thead>\n",
       "  <tbody>\n",
       "    <tr>\n",
       "      <th>789</th>\n",
       "      <td>31370</td>\n",
       "      <td>Do You Believe? (2007)</td>\n",
       "      <td>documentary</td>\n",
       "      <td>Do you believe?\" digs deep into our spiritual...</td>\n",
       "    </tr>\n",
       "    <tr>\n",
       "      <th>2507</th>\n",
       "      <td>25529</td>\n",
       "      <td>The House That Jack Broke (2013)</td>\n",
       "      <td>drama</td>\n",
       "      <td>Early one morning, two FBI agents, Portman an...</td>\n",
       "    </tr>\n",
       "    <tr>\n",
       "      <th>2376</th>\n",
       "      <td>5405</td>\n",
       "      <td>Children of Peace (2016)</td>\n",
       "      <td>documentary</td>\n",
       "      <td>The Bosnian War was an international armed co...</td>\n",
       "    </tr>\n",
       "    <tr>\n",
       "      <th>1378</th>\n",
       "      <td>49949</td>\n",
       "      <td>Hwioribaram (2009)</td>\n",
       "      <td>drama</td>\n",
       "      <td>During winter vacation of their sophomore yea...</td>\n",
       "    </tr>\n",
       "    <tr>\n",
       "      <th>598</th>\n",
       "      <td>21445</td>\n",
       "      <td>Gui pian wang zhi zai xian xiong bang (1999)</td>\n",
       "      <td>horror</td>\n",
       "      <td>At a Hong Kong dormitory, the cook's little g...</td>\n",
       "    </tr>\n",
       "  </tbody>\n",
       "</table>\n",
       "</div>"
      ],
      "text/plain": [
       "         id                                           title          genre  \\\n",
       "789   31370                         Do You Believe? (2007)    documentary    \n",
       "2507  25529               The House That Jack Broke (2013)          drama    \n",
       "2376   5405                       Children of Peace (2016)    documentary    \n",
       "1378  49949                             Hwioribaram (2009)          drama    \n",
       "598   21445   Gui pian wang zhi zai xian xiong bang (1999)         horror    \n",
       "\n",
       "                                                   desc  \n",
       "789    Do you believe?\" digs deep into our spiritual...  \n",
       "2507   Early one morning, two FBI agents, Portman an...  \n",
       "2376   The Bosnian War was an international armed co...  \n",
       "1378   During winter vacation of their sophomore yea...  \n",
       "598    At a Hong Kong dormitory, the cook's little g...  "
      ]
     },
     "execution_count": 1,
     "metadata": {},
     "output_type": "execute_result"
    }
   ],
   "source": [
    "# Run this cell without changes\n",
    "import pandas as pd\n",
    "\n",
    "# Import the data\n",
    "data = pd.read_csv('movie_descriptions.csv')\n",
    "\n",
    "# Output a sample\n",
    "data = data.sample(1500, random_state=100)\n",
    "data.head()"
   ]
  },
  {
   "cell_type": "code",
   "execution_count": null,
   "metadata": {
    "nbgrader": {
     "grade": false,
     "grade_id": "cell-f04cd94df7c7b107",
     "locked": true,
     "schema_version": 3,
     "solution": false,
     "task": false
    }
   },
   "outputs": [],
   "source": [
    "# Run this cell without changes\n",
    "data.genre.value_counts()"
   ]
  },
  {
   "cell_type": "markdown",
   "metadata": {
    "nbgrader": {
     "grade": false,
     "grade_id": "cell-402a4b03e41919f5",
     "locked": true,
     "schema_version": 3,
     "solution": false,
     "task": false
    }
   },
   "source": [
    "### Requirements\n",
    "\n",
    "1. Initialize tokenizer and stemmer objects to prepare for text preprocessing\n",
    "2. Write a function that implements standard \"bag of words\" text preprocessing\n",
    "3. Initialize and fit a `CountVectorizer` from `sklearn`\n",
    "3. Vectorize data using `CountVectorizer`\n",
    "4. Fit a decision tree classifier on vectorized text data"
   ]
  },
  {
   "cell_type": "markdown",
   "metadata": {
    "nbgrader": {
     "grade": false,
     "grade_id": "cell-f86b392a061c5b2e",
     "locked": true,
     "schema_version": 3,
     "solution": false,
     "task": false
    }
   },
   "source": [
    "## 1) Initialize Tokenizer, Stemmer, and Stopwords Objects\n",
    "\n",
    "In our exploratory text analysis, we will:\n",
    "\n",
    "* Standardize case\n",
    "* Tokenize (split text into words)\n",
    "* Remove stopwords\n",
    "* Stem words\n",
    "\n",
    "Three of those steps require that we import some functionality from `nltk`. In the cell below, create:\n",
    "\n",
    "* An instance of `RegexpTokenizer` ([documentation here](https://www.nltk.org/api/nltk.tokenize.regexp.html#module-nltk.tokenize.regexp)) called `tokenizer`\n",
    "  * The regex pattern should select all words with three or more characters. You can use the pattern `r\"(?u)\\w{3,}\"`\n",
    "* A list of stopwords (documentation [here](https://www.nltk.org/api/nltk.corpus.html#module-nltk.corpus) and [here](https://www.nltk.org/nltk_data/)) called `stopwords_list`\n",
    "* An instance of `PorterStemmer` ([documentation here](https://www.nltk.org/api/nltk.stem.porter.html)) called `stemmer`"
   ]
  },
  {
   "cell_type": "code",
   "execution_count": 2,
   "metadata": {
    "ExecuteTime": {
     "end_time": "2021-11-08T18:51:17.616392Z",
     "start_time": "2021-11-08T18:51:16.358327Z"
    },
    "nbgrader": {
     "grade": false,
     "grade_id": "cell-ac8d9d14c1329b01",
     "locked": false,
     "schema_version": 3,
     "solution": true,
     "task": false
    },
    "run_control": {
     "marked": false
    }
   },
   "outputs": [
    {
     "name": "stderr",
     "output_type": "stream",
     "text": [
      "[nltk_data] Downloading package stopwords to\n",
      "[nltk_data]     C:\\Users\\sifat\\AppData\\Roaming\\nltk_data...\n",
      "[nltk_data]   Unzipping corpora\\stopwords.zip.\n"
     ]
    }
   ],
   "source": [
    "# CodeGrade step1\n",
    "# Run this line in a new cell if nltk isn't working\n",
    "# !pip install nltk\n",
    "\n",
    "# Replace None with appropriate code\n",
    "\n",
    "import nltk\n",
    "nltk.download('stopwords')\n",
    "from nltk.tokenize import RegexpTokenizer\n",
    "from nltk.corpus import stopwords\n",
    "from nltk.stem import PorterStemmer\n",
    "\n",
    "# Create an intance of the RegexpTokenizer with the variable name `tokenizer`\n",
    "# The regex pattern should select all words with three or more characters\n",
    "tokenizer = RegexpTokenizer(r\"(?u)\\w{3,}\")\n",
    "\n",
    "# Create a list of stopwords in English\n",
    "stopwords_list = set(stopwords.words('english'))\n",
    "\n",
    "# Create an instance of nltk's PorterStemmer with the variable name `stemmer`\n",
    "stemmer = PorterStemmer()"
   ]
  },
  {
   "cell_type": "code",
   "execution_count": 4,
   "metadata": {},
   "outputs": [],
   "source": [
    "# Checking that variables are no longer None\n",
    "assert tokenizer\n",
    "assert stopwords_list\n",
    "assert stemmer"
   ]
  },
  {
   "cell_type": "markdown",
   "metadata": {
    "nbgrader": {
     "grade": false,
     "grade_id": "cell-33101c1955e971d9",
     "locked": true,
     "schema_version": 3,
     "solution": false,
     "task": false
    }
   },
   "source": [
    "## 2) Write a Function That Implements Standard Text Preprocessing\n",
    "\n",
    "In the cell below, complete the `preprocess_text` function so the inputted text is returned lower cased, tokenized, stopwords removed, and stemmed.\n",
    "\n",
    "For example, if you input the text\n",
    "\n",
    "```\n",
    "This is an example sentence for preprocessing.\n",
    "```\n",
    "\n",
    "The result of `preprocess_text` should be this list of strings:\n",
    "\n",
    "```python\n",
    "['exampl', 'sentenc', 'preprocess']\n",
    "```"
   ]
  },
  {
   "cell_type": "code",
   "execution_count": 9,
   "metadata": {},
   "outputs": [
    {
     "data": {
      "text/plain": [
       "['exampl', 'sentenc', 'preprocess']"
      ]
     },
     "execution_count": 9,
     "metadata": {},
     "output_type": "execute_result"
    }
   ],
   "source": [
    "# CodeGrade step2\n",
    "def preprocess_text(text, tokenizer, stopwords_list, stemmer):\n",
    "    # Standardize case (lowercase the text)\n",
    "     text = text.lower()\n",
    "    # Tokenize text using `tokenizer`\n",
    "     tokens = tokenizer.tokenize(text)\n",
    "    # Remove stopwords using `stopwords_list`\n",
    "     tokens = [word for word in tokens if word not in stopwords_list]\n",
    "    # Stem the tokenized text using `stemmer`\n",
    "     tokens = [stemmer.stem(word) for word in tokens]\n",
    "    # Return the preprocessed text\n",
    "     return tokens\n",
    "preprocess_text(\"This is an example sentence for preprocessing.\", tokenizer, stopwords_list, stemmer)"
   ]
  },
  {
   "cell_type": "code",
   "execution_count": 10,
   "metadata": {},
   "outputs": [],
   "source": [
    "from types import FunctionType\n",
    "\n",
    "assert type(preprocess_text) == FunctionType\n",
    "assert type(preprocess_text('Example text', tokenizer, stopwords_list, stemmer)) == list"
   ]
  },
  {
   "cell_type": "markdown",
   "metadata": {
    "nbgrader": {
     "grade": false,
     "grade_id": "cell-0897c963ea268a17",
     "locked": true,
     "schema_version": 3,
     "solution": false,
     "task": false
    }
   },
   "source": [
    "Now that the function has been created, use it to preprocess the entire dataset:"
   ]
  },
  {
   "cell_type": "code",
   "execution_count": 11,
   "metadata": {
    "nbgrader": {
     "grade": false,
     "grade_id": "cell-5a65bd7ab76cef9a",
     "locked": true,
     "schema_version": 3,
     "solution": false,
     "task": false
    }
   },
   "outputs": [
    {
     "data": {
      "text/plain": [
       "789     [believ, dig, deep, spiritu, live, search, ans...\n",
       "2507    [earli, one, morn, two, fbi, agent, portman, c...\n",
       "2376    [bosnian, war, intern, arm, conflict, took, pl...\n",
       "1378    [winter, vacat, sophomor, year, high, school, ...\n",
       "598     [hong, kong, dormitori, cook, littl, granddaug...\n",
       "                              ...                        \n",
       "4276    [dutta, babu, stand, elect, cun, corrupt, esta...\n",
       "1528    [2006, northern, ireland, bloodi, troubl, drag...\n",
       "4259    [drive, herd, cattl, market, jimmi, find, trai...\n",
       "3686    [stori, almost, unknown, soviet, cinema, eye, ...\n",
       "1372    [lisett, carmen, russo, high, price, call, gir...\n",
       "Name: desc, Length: 1500, dtype: object"
      ]
     },
     "execution_count": 11,
     "metadata": {},
     "output_type": "execute_result"
    }
   ],
   "source": [
    "# Run this cell without changes\n",
    "# (This may take a while due to nested loops)\n",
    "text_data = data.desc.apply(lambda x: preprocess_text(x, tokenizer, stopwords_list, stemmer))\n",
    "text_data"
   ]
  },
  {
   "cell_type": "code",
   "execution_count": 12,
   "metadata": {
    "nbgrader": {
     "grade": false,
     "grade_id": "cell-eea69e9c014d5d8a",
     "locked": true,
     "schema_version": 3,
     "solution": false,
     "task": false
    }
   },
   "outputs": [
    {
     "data": {
      "text/html": [
       "<div>\n",
       "<style scoped>\n",
       "    .dataframe tbody tr th:only-of-type {\n",
       "        vertical-align: middle;\n",
       "    }\n",
       "\n",
       "    .dataframe tbody tr th {\n",
       "        vertical-align: top;\n",
       "    }\n",
       "\n",
       "    .dataframe thead th {\n",
       "        text-align: right;\n",
       "    }\n",
       "</style>\n",
       "<table border=\"1\" class=\"dataframe\">\n",
       "  <thead>\n",
       "    <tr style=\"text-align: right;\">\n",
       "      <th></th>\n",
       "      <th>id</th>\n",
       "      <th>title</th>\n",
       "      <th>genre</th>\n",
       "      <th>desc</th>\n",
       "      <th>preprocessed_text</th>\n",
       "    </tr>\n",
       "  </thead>\n",
       "  <tbody>\n",
       "    <tr>\n",
       "      <th>789</th>\n",
       "      <td>31370</td>\n",
       "      <td>Do You Believe? (2007)</td>\n",
       "      <td>documentary</td>\n",
       "      <td>Do you believe?\" digs deep into our spiritual...</td>\n",
       "      <td>[believ, dig, deep, spiritu, live, search, ans...</td>\n",
       "    </tr>\n",
       "    <tr>\n",
       "      <th>2507</th>\n",
       "      <td>25529</td>\n",
       "      <td>The House That Jack Broke (2013)</td>\n",
       "      <td>drama</td>\n",
       "      <td>Early one morning, two FBI agents, Portman an...</td>\n",
       "      <td>[earli, one, morn, two, fbi, agent, portman, c...</td>\n",
       "    </tr>\n",
       "    <tr>\n",
       "      <th>2376</th>\n",
       "      <td>5405</td>\n",
       "      <td>Children of Peace (2016)</td>\n",
       "      <td>documentary</td>\n",
       "      <td>The Bosnian War was an international armed co...</td>\n",
       "      <td>[bosnian, war, intern, arm, conflict, took, pl...</td>\n",
       "    </tr>\n",
       "    <tr>\n",
       "      <th>1378</th>\n",
       "      <td>49949</td>\n",
       "      <td>Hwioribaram (2009)</td>\n",
       "      <td>drama</td>\n",
       "      <td>During winter vacation of their sophomore yea...</td>\n",
       "      <td>[winter, vacat, sophomor, year, high, school, ...</td>\n",
       "    </tr>\n",
       "    <tr>\n",
       "      <th>598</th>\n",
       "      <td>21445</td>\n",
       "      <td>Gui pian wang zhi zai xian xiong bang (1999)</td>\n",
       "      <td>horror</td>\n",
       "      <td>At a Hong Kong dormitory, the cook's little g...</td>\n",
       "      <td>[hong, kong, dormitori, cook, littl, granddaug...</td>\n",
       "    </tr>\n",
       "  </tbody>\n",
       "</table>\n",
       "</div>"
      ],
      "text/plain": [
       "         id                                           title          genre  \\\n",
       "789   31370                         Do You Believe? (2007)    documentary    \n",
       "2507  25529               The House That Jack Broke (2013)          drama    \n",
       "2376   5405                       Children of Peace (2016)    documentary    \n",
       "1378  49949                             Hwioribaram (2009)          drama    \n",
       "598   21445   Gui pian wang zhi zai xian xiong bang (1999)         horror    \n",
       "\n",
       "                                                   desc  \\\n",
       "789    Do you believe?\" digs deep into our spiritual...   \n",
       "2507   Early one morning, two FBI agents, Portman an...   \n",
       "2376   The Bosnian War was an international armed co...   \n",
       "1378   During winter vacation of their sophomore yea...   \n",
       "598    At a Hong Kong dormitory, the cook's little g...   \n",
       "\n",
       "                                      preprocessed_text  \n",
       "789   [believ, dig, deep, spiritu, live, search, ans...  \n",
       "2507  [earli, one, morn, two, fbi, agent, portman, c...  \n",
       "2376  [bosnian, war, intern, arm, conflict, took, pl...  \n",
       "1378  [winter, vacat, sophomor, year, high, school, ...  \n",
       "598   [hong, kong, dormitori, cook, littl, granddaug...  "
      ]
     },
     "execution_count": 12,
     "metadata": {},
     "output_type": "execute_result"
    }
   ],
   "source": [
    "# Run this cell without changes\n",
    "data[\"preprocessed_text\"] = text_data\n",
    "data.head()"
   ]
  },
  {
   "cell_type": "markdown",
   "metadata": {
    "nbgrader": {
     "grade": false,
     "grade_id": "cell-6055dd6b224b8099",
     "locked": true,
     "schema_version": 3,
     "solution": false,
     "task": false
    }
   },
   "source": [
    "Now let's take a look at the top ten most frequent words for each genre."
   ]
  },
  {
   "cell_type": "code",
   "execution_count": 13,
   "metadata": {
    "nbgrader": {
     "grade": false,
     "grade_id": "cell-89aa21c97d821cb0",
     "locked": true,
     "schema_version": 3,
     "solution": false,
     "task": false
    }
   },
   "outputs": [
    {
     "data": {
      "image/png": "[encoded data removed]",
      "text/plain": [
       "<Figure size 864x864 with 7 Axes>"
      ]
     },
     "metadata": {
      "needs_background": "light"
     },
     "output_type": "display_data"
    }
   ],
   "source": [
    "# Run this cell without changes\n",
    "import matplotlib.pyplot as plt\n",
    "import seaborn as sns\n",
    "\n",
    "# Set up figure and axes\n",
    "fig, axes = plt.subplots(nrows=7, figsize=(12, 12))\n",
    "\n",
    "# Empty dict to hold words that have already been plotted and their colors\n",
    "plotted_words_and_colors = {}\n",
    "# Establish color palette to pull from\n",
    "# (If you get an error message about popping from an empty list, increase this #)\n",
    "color_palette = sns.color_palette('cividis', n_colors=38)\n",
    "\n",
    "# Creating a plot for each unique genre\n",
    "data_by_genre = [y for _, y in data.groupby('genre', as_index=False)]\n",
    "for idx, genre_df in enumerate(data_by_genre):\n",
    "    # Find top 10 words in this genre\n",
    "    all_words_in_genre = genre_df.preprocessed_text.explode()\n",
    "    top_10 = all_words_in_genre.value_counts()[:10]\n",
    "    \n",
    "    # Select appropriate colors, reusing colors if words repeat\n",
    "    colors = []\n",
    "    for word in top_10.index:\n",
    "        if word not in plotted_words_and_colors:\n",
    "            new_color = color_palette.pop(0)\n",
    "            plotted_words_and_colors[word] = new_color\n",
    "        colors.append(plotted_words_and_colors[word])\n",
    "    \n",
    "    # Select axes, plot data, set title\n",
    "    ax = axes[idx]\n",
    "    ax.bar(top_10.index, top_10.values, color=colors)\n",
    "    ax.set_title(genre_df.iloc[0].genre.title())\n",
    "    \n",
    "fig.tight_layout()"
   ]
  },
  {
   "cell_type": "markdown",
   "metadata": {
    "nbgrader": {
     "grade": false,
     "grade_id": "cell-8b9cdaabf9fb047d",
     "locked": true,
     "schema_version": 3,
     "solution": false,
     "task": false
    }
   },
   "source": [
    "## 3) Fit a Count Vectorizer\n",
    "\n",
    "Now that we have explored the data some, let's prepare it for modeling.\n",
    "\n",
    "Before we fit a vectorizer to the data, we need to convert the list of tokens for each document back to a string datatype and create a train test split."
   ]
  },
  {
   "cell_type": "code",
   "execution_count": 14,
   "metadata": {
    "ExecuteTime": {
     "end_time": "2021-11-08T18:51:40.308407Z",
     "start_time": "2021-11-08T18:51:40.292643Z"
    },
    "nbgrader": {
     "grade": false,
     "grade_id": "cell-b51f2230605c794d",
     "locked": true,
     "schema_version": 3,
     "solution": false,
     "task": false
    }
   },
   "outputs": [
    {
     "data": {
      "text/plain": [
       "3806    young man aunt refus give inherit marri pass w...\n",
       "3202    21st centuri seem one inexhaust wealth great c...\n",
       "1886                                detail plot kept wrap\n",
       "2674    walk dark live struggl refuge live krisan refu...\n",
       "4176    dean randi best friend yearn part someth bigge...\n",
       "                              ...                        \n",
       "3618    limpan alcohol put caretak home alcohol promis...\n",
       "1412    escap ugli life alcohol mother uneduc barman s...\n",
       "3413    discourag card life felt hank jim belushi man ...\n",
       "3269    disown clair featur length independ comedi cla...\n",
       "3734    stori depict problem bulli intimid junior stud...\n",
       "Name: joined_preprocessed_text, Length: 1050, dtype: object"
      ]
     },
     "execution_count": 14,
     "metadata": {},
     "output_type": "execute_result"
    }
   ],
   "source": [
    "# Run this cell without changes\n",
    "from sklearn.model_selection import train_test_split\n",
    "\n",
    "# Convert token lists to strings\n",
    "data[\"joined_preprocessed_text\"] = data[\"preprocessed_text\"].str.join(\" \")\n",
    "\n",
    "# Create train test split\n",
    "X_train, X_test, y_train, y_test = train_test_split(\n",
    "    data[\"joined_preprocessed_text\"], data.genre, test_size=0.3, random_state=2021)\n",
    "\n",
    "X_train"
   ]
  },
  {
   "cell_type": "markdown",
   "metadata": {},
   "source": [
    "**In the cell below, create a CountVectorizer instance ([documentation here](https://scikit-learn.org/stable/modules/generated/sklearn.feature_extraction.text.CountVectorizer.html)) with default arguments, called `vectorizer`, and fit it to the training data.**"
   ]
  },
  {
   "cell_type": "code",
   "execution_count": 20,
   "metadata": {},
   "outputs": [],
   "source": [
    "# CodeGrade step3\n",
    "# Import the CountVectorizer object from sklearn\n",
    "\n",
    "from sklearn.feature_extraction.text import CountVectorizer\n",
    "\n",
    "# Create a `vectorizer` instance\n",
    "vectorizer = CountVectorizer()\n",
    "\n",
    "# Fit the vectorizer to the training data\n",
    "vectorizer.fit(X_train)  \n",
    "assert vectorizer"
   ]
  },
  {
   "cell_type": "code",
   "execution_count": 21,
   "metadata": {},
   "outputs": [],
   "source": [
    "assert vectorizer"
   ]
  },
  {
   "cell_type": "markdown",
   "metadata": {
    "nbgrader": {
     "grade": false,
     "grade_id": "cell-878793ee1cb75b9b",
     "locked": true,
     "schema_version": 3,
     "solution": false,
     "task": false
    }
   },
   "source": [
    "## 4) Vectorize the Data\n",
    "\n",
    "In the cell below, vectorize the training and test datasets using the fitted count vectorizer."
   ]
  },
  {
   "cell_type": "code",
   "execution_count": 22,
   "metadata": {
    "ExecuteTime": {
     "end_time": "2021-11-08T18:51:41.047346Z",
     "start_time": "2021-11-08T18:51:40.809618Z"
    },
    "nbgrader": {
     "grade": false,
     "grade_id": "cell-2de1876d86b996ef",
     "locked": false,
     "schema_version": 3,
     "solution": true,
     "task": false
    }
   },
   "outputs": [],
   "source": [
    "# CodeGrade step4\n",
    "# Replace None with appropriate code\n",
    "\n",
    "X_train_vectorized = vectorizer.transform(X_train)\n",
    "X_test_vectorized = vectorizer.transform(X_test)"
   ]
  },
  {
   "cell_type": "code",
   "execution_count": 23,
   "metadata": {},
   "outputs": [],
   "source": [
    "from scipy.sparse.csr import csr_matrix\n",
    "assert type(X_train_vectorized) == csr_matrix\n",
    "assert type(X_test_vectorized) == csr_matrix"
   ]
  },
  {
   "cell_type": "markdown",
   "metadata": {
    "nbgrader": {
     "grade": false,
     "grade_id": "cell-c7f79ea442cc186b",
     "locked": true,
     "schema_version": 3,
     "solution": false,
     "task": false
    }
   },
   "source": [
    "## 5) Fit a Decision Tree Model\n",
    "\n",
    "In the cell below, \n",
    "\n",
    "- Create an instance of `sklearn`'s `DecisionTreeClassifier` ([documentation here](https://scikit-learn.org/stable/modules/generated/sklearn.tree.DecisionTreeClassifier.html)), using default arguments, with the variable name `dt`\n",
    "- Fit the model to the vectorized training data"
   ]
  },
  {
   "cell_type": "code",
   "execution_count": 25,
   "metadata": {
    "ExecuteTime": {
     "end_time": "2021-11-08T18:51:42.154158Z",
     "start_time": "2021-11-08T18:51:41.138578Z"
    },
    "nbgrader": {
     "grade": false,
     "grade_id": "cell-149edcbb04ffb6c8",
     "locked": false,
     "schema_version": 3,
     "solution": true,
     "task": false
    }
   },
   "outputs": [],
   "source": [
    "# CodeGrade step5\n",
    "# Replace None with appropriate code\n",
    "\n",
    "# Import DecisionTreeClassifier\n",
    "from sklearn.tree import DecisionTreeClassifier\n",
    "\n",
    "# Initialize `dt`\n",
    "dt = DecisionTreeClassifier()\n",
    "\n",
    "# Fit the model to the training data\n",
    "dt.fit(X_train_vectorized, y_train) \n",
    "assert dt"
   ]
  },
  {
   "cell_type": "code",
   "execution_count": 26,
   "metadata": {},
   "outputs": [],
   "source": [
    "assert dt"
   ]
  },
  {
   "cell_type": "markdown",
   "metadata": {
    "nbgrader": {
     "grade": false,
     "grade_id": "cell-cdaffa8177aaf22f",
     "locked": true,
     "schema_version": 3,
     "solution": false,
     "task": false
    }
   },
   "source": [
    "The following code will now evaluate our model on the test data:"
   ]
  },
  {
   "cell_type": "code",
   "execution_count": 27,
   "metadata": {
    "nbgrader": {
     "grade": false,
     "grade_id": "cell-1c19dcab44955d73",
     "locked": true,
     "schema_version": 3,
     "solution": false,
     "task": false
    }
   },
   "outputs": [
    {
     "data": {
      "image/png": "[encoded data removed]",
      "text/plain": [
       "<Figure size 864x864 with 2 Axes>"
      ]
     },
     "metadata": {
      "needs_background": "light"
     },
     "output_type": "display_data"
    }
   ],
   "source": [
    "# Run this cell without changes\n",
    "\n",
    "from sklearn.metrics import plot_confusion_matrix\n",
    "fig, ax = plt.subplots(figsize=(12,12))\n",
    "plot_confusion_matrix(dt, X_test_vectorized, y_test, ax=ax, cmap=\"cividis\");"
   ]
  }
 ],
 "metadata": {
  "celltoolbar": "Create Assignment",
  "kernelspec": {
   "display_name": "Python (learn-env)",
   "language": "python",
   "name": "learn-env"
  },
  "language_info": {
   "codemirror_mode": {
    "name": "ipython",
    "version": 3
   },
   "file_extension": ".py",
   "mimetype": "text/x-python",
   "name": "python",
   "nbconvert_exporter": "python",
   "pygments_lexer": "ipython3",
   "version": "3.8.5"
  },
  "toc": {
   "base_numbering": 1,
   "nav_menu": {},
   "number_sections": false,
   "sideBar": true,
   "skip_h1_title": true,
   "title_cell": "Table of Contents",
   "title_sidebar": "Contents",
   "toc_cell": false,
   "toc_position": {},
   "toc_section_display": true,
   "toc_window_display": false
  },
  "varInspector": {
   "cols": {
    "lenName": 16,
    "lenType": 16,
    "lenVar": 40
   },
   "kernels_config": {
    "python": {
     "delete_cmd_postfix": "",
     "delete_cmd_prefix": "del ",
     "library": "var_list.py",
     "varRefreshCmd": "print(var_dic_list())"
    },
    "r": {
     "delete_cmd_postfix": ") ",
     "delete_cmd_prefix": "rm(",
     "library": "var_list.r",
     "varRefreshCmd": "cat(var_dic_list()) "
    }
   },
   "types_to_exclude": [
    "module",
    "function",
    "builtin_function_or_method",
    "instance",
    "_Feature"
   ],
   "window_display": false
  }
 },
 "nbformat": 4,
 "nbformat_minor": 5
}
